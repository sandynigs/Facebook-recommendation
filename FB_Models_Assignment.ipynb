{
  "nbformat": 4,
  "nbformat_minor": 0,
  "metadata": {
    "colab": {
      "name": "FB_Models.ipynb",
      "provenance": [],
      "collapsed_sections": []
    },
    "kernelspec": {
      "display_name": "Python 3",
      "language": "python",
      "name": "python3"
    }
  },
  "cells": [
    {
      "cell_type": "markdown",
      "metadata": {
        "id": "naWvqMEMHglO"
      },
      "source": [
        "<p style=\"font-size:32px;text-align:center\"> <b>Social network Graph Link Prediction - Facebook Challenge</b> </p>"
      ]
    },
    {
      "cell_type": "code",
      "metadata": {
        "colab": {
          "base_uri": "https://localhost:8080/"
        },
        "id": "Aml27uBCGfxx",
        "outputId": "82ecec49-3a23-4bd6-e1b5-3678f7743d5a"
      },
      "source": [
        "from google.colab import drive\n",
        "drive.mount('/content/drive')"
      ],
      "execution_count": 3,
      "outputs": [
        {
          "output_type": "stream",
          "text": [
            "Mounted at /content/drive\n"
          ],
          "name": "stdout"
        }
      ]
    },
    {
      "cell_type": "code",
      "metadata": {
        "id": "9wb9N5RzHglP"
      },
      "source": [
        "#Importing Libraries\n",
        "# please do go through this python notebook: \n",
        "import warnings\n",
        "warnings.filterwarnings(\"ignore\")\n",
        "\n",
        "import csv\n",
        "import pandas as pd#pandas to create small dataframes \n",
        "import datetime #Convert to unix time\n",
        "import time #Convert to unix time\n",
        "# if numpy is not installed already : pip3 install numpy\n",
        "import numpy as np#Do aritmetic operations on arrays\n",
        "# matplotlib: used to plot graphs\n",
        "import matplotlib\n",
        "import matplotlib.pylab as plt\n",
        "import seaborn as sns#Plots\n",
        "from matplotlib import rcParams#Size of plots  \n",
        "from sklearn.cluster import MiniBatchKMeans, KMeans#Clustering\n",
        "import math\n",
        "import pickle\n",
        "import os\n",
        "# to install xgboost: pip3 install xgboost\n",
        "import xgboost as xgb\n",
        "\n",
        "import warnings\n",
        "import networkx as nx\n",
        "import pdb\n",
        "import pickle\n",
        "from pandas import HDFStore,DataFrame\n",
        "from pandas import read_hdf\n",
        "from scipy.sparse.linalg import svds, eigs\n",
        "import gc\n",
        "from tqdm import tqdm\n",
        "from sklearn.ensemble import RandomForestClassifier\n",
        "from sklearn.metrics import f1_score"
      ],
      "execution_count": 2,
      "outputs": []
    },
    {
      "cell_type": "code",
      "metadata": {
        "colab": {
          "base_uri": "https://localhost:8080/"
        },
        "id": "ReuQGYJUsRxn",
        "outputId": "8befc60c-1915-4bcd-bcef-777828ce6aa7"
      },
      "source": [
        "!wget --header=\"Host: doc-0o-bk-docs.googleusercontent.com\" --header=\"User-Agent: Mozilla/5.0 (Windows NT 10.0; Win64; x64) AppleWebKit/537.36 (KHTML, like Gecko) Chrome/90.0.4430.212 Safari/537.36\" --header=\"Accept: text/html,application/xhtml+xml,application/xml;q=0.9,image/avif,image/webp,image/apng,*/*;q=0.8,application/signed-exchange;v=b3;q=0.9\" --header=\"Accept-Language: en-US,en;q=0.9\" --header=\"Cookie: AUTH_nso6dcn1mbidkt5qr539a2jiefc09pqv_nonce=iak2ig7rpq664\" --header=\"Connection: keep-alive\" \"https://doc-0o-bk-docs.googleusercontent.com/docs/securesc/nss2f5s2soorprev6d4t4qp3n5ekp9nh/evl2j2j4t5hronicnhsbdlsblnbl9qk3/1622116650000/06629147635963609455/13017565264516993811/1fDJptlCFEWNV5UNGPc4geTykgFI3PDCV?e=download&authuser=0&nonce=iak2ig7rpq664&user=13017565264516993811&hash=fvl5s6dohfnqle6k8q3koe9jr2mhe6jr\" -c -O 'storage_sample_stage4.h5'"
      ],
      "execution_count": null,
      "outputs": [
        {
          "output_type": "stream",
          "text": [
            "--2021-06-12 16:01:49--  https://doc-0o-bk-docs.googleusercontent.com/docs/securesc/nss2f5s2soorprev6d4t4qp3n5ekp9nh/evl2j2j4t5hronicnhsbdlsblnbl9qk3/1622116650000/06629147635963609455/13017565264516993811/1fDJptlCFEWNV5UNGPc4geTykgFI3PDCV?e=download&authuser=0&nonce=iak2ig7rpq664&user=13017565264516993811&hash=fvl5s6dohfnqle6k8q3koe9jr2mhe6jr\n",
            "Resolving doc-0o-bk-docs.googleusercontent.com (doc-0o-bk-docs.googleusercontent.com)... 64.233.170.132, 2607:f8b0:400c:c0d::84\n",
            "Connecting to doc-0o-bk-docs.googleusercontent.com (doc-0o-bk-docs.googleusercontent.com)|64.233.170.132|:443... connected.\n",
            "HTTP request sent, awaiting response... 403 Forbidden\n",
            "2021-06-12 16:01:49 ERROR 403: Forbidden.\n",
            "\n"
          ],
          "name": "stdout"
        }
      ]
    },
    {
      "cell_type": "code",
      "metadata": {
        "colab": {
          "base_uri": "https://localhost:8080/"
        },
        "id": "gqVhNQpGUqq5",
        "outputId": "2640568e-555e-4000-83f7-cebdccc765a6"
      },
      "source": [
        "if os.path.isfile('/content/drive/MyDrive/Colab Notebooks/Facebook/data/after_eda/train_pos_after_eda.csv'):\n",
        "    train_graph=nx.read_edgelist('/content/drive/MyDrive/Colab Notebooks/Facebook/data/after_eda/train_pos_after_eda.csv',delimiter=',',create_using=nx.DiGraph(),nodetype=int)\n",
        "    print(nx.info(train_graph))\n",
        "else:\n",
        "    print(\"please run the FB_EDA.ipynb or download the files from drive\")"
      ],
      "execution_count": 55,
      "outputs": [
        {
          "output_type": "stream",
          "text": [
            "Name: \n",
            "Type: DiGraph\n",
            "Number of nodes: 1780722\n",
            "Number of edges: 7550015\n",
            "Average in degree:   4.2399\n",
            "Average out degree:   4.2399\n"
          ],
          "name": "stdout"
        }
      ]
    },
    {
      "cell_type": "code",
      "metadata": {
        "id": "XC4OJFKkHglU"
      },
      "source": [
        "#reading\n",
        "from pandas import read_hdf\n",
        "df_final_train = read_hdf('/content/drive/MyDrive/Colab Notebooks/Facebook/data/fea_sample/storage_sample_stage4.h5', 'train_df',mode='r')\n",
        "df_final_test = read_hdf('/content/drive/MyDrive/Colab Notebooks/Facebook/data/fea_sample/storage_sample_stage4.h5', 'test_df',mode='r')"
      ],
      "execution_count": 56,
      "outputs": []
    },
    {
      "cell_type": "code",
      "metadata": {
        "id": "HAPNlt0wGePt"
      },
      "source": [
        ""
      ],
      "execution_count": 26,
      "outputs": []
    },
    {
      "cell_type": "code",
      "metadata": {
        "colab": {
          "base_uri": "https://localhost:8080/",
          "height": 53
        },
        "id": "FqNILiGoFJMA",
        "outputId": "58335426-1de9-40ae-fac2-a286474336df"
      },
      "source": [
        "#Add two new features\n",
        "# 1. Preferential attachment\n",
        "'''We estimate how ”rich” our two vertices are by calculating the multiplication between the \n",
        "number of friends (|Γ(x)|) or followers each vertex has.\n",
        "'''"
      ],
      "execution_count": 27,
      "outputs": [
        {
          "output_type": "execute_result",
          "data": {
            "application/vnd.google.colaboratory.intrinsic+json": {
              "type": "string"
            },
            "text/plain": [
              "'We estimate how ”rich” our two vertices are by calculating the multiplication between the \\nnumber of friends (|Γ(x)|) or followers each vertex has.\\n'"
            ]
          },
          "metadata": {
            "tags": []
          },
          "execution_count": 27
        }
      ]
    },
    {
      "cell_type": "markdown",
      "metadata": {
        "id": "e6gJs3S_Fadg"
      },
      "source": [
        "![image.png](data:image/png;base64,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)"
      ]
    },
    {
      "cell_type": "code",
      "metadata": {
        "id": "25fO4bEiFvsz"
      },
      "source": [
        "def compute_pref_attach(df_final):\n",
        "    #calculating no of followers followees for source and destination\n",
        "    #calculating intersection of followers and followees for source and destination\n",
        "    pref_attach=[]\n",
        "    for i,row in df_final.iterrows():\n",
        "        try:\n",
        "            s1=set(train_graph.predecessors(row['source_node']))\n",
        "        except:\n",
        "            s1 = set()\n",
        "        try:\n",
        "            d1=set(train_graph.predecessors(row['destination_node']))\n",
        "        except:\n",
        "            d1 = set()\n",
        "\n",
        "        pref_attach.append(len(s1)*len(d1))\n",
        "\n",
        "    return pref_attach"
      ],
      "execution_count": 57,
      "outputs": []
    },
    {
      "cell_type": "code",
      "metadata": {
        "id": "feeiV-nHFvpE"
      },
      "source": [
        "df_final_train['preferential_attachment'] = compute_pref_attach(df_final_train)\n",
        "\n",
        "df_final_test['preferential_attachment'] = compute_pref_attach(df_final_test)\n"
      ],
      "execution_count": 58,
      "outputs": []
    },
    {
      "cell_type": "code",
      "metadata": {
        "id": "w81NQFyBULhL"
      },
      "source": [
        ""
      ],
      "execution_count": null,
      "outputs": []
    },
    {
      "cell_type": "code",
      "metadata": {
        "id": "O72RhTcyFvlR"
      },
      "source": [
        "# 2. Add feature called svd_dot. \n",
        "#you can calculate svd_dot as Dot product between sourse node svd and destination node svd features.\n",
        "\n",
        "def compute_svd_dot(df_final):\n",
        "    svd_dot_u=[]\n",
        "    svd_dot_v=[]\n",
        "    num_followers_d=[]\n",
        "    for i,row in df_final.iterrows():\n",
        "        u_dot = row['svd_u_s_1']*row['svd_u_d_1'] + row['svd_u_s_2']*row['svd_u_d_2'] + \\\n",
        "        row['svd_u_s_3']*row['svd_u_d_3'] + row['svd_u_s_4']*row['svd_u_d_4'] + \\\n",
        "        row['svd_u_s_5']*row['svd_u_d_5'] + row['svd_u_s_6']*row['svd_u_d_6']\n",
        "\n",
        "        v_dot = row['svd_v_s_1']*row['svd_v_d_1'] + row['svd_v_s_2']*row['svd_v_d_2'] + \\\n",
        "        row['svd_v_s_3']*row['svd_v_d_3'] + row['svd_v_s_4']*row['svd_v_d_4'] + \\\n",
        "        row['svd_v_s_5']*row['svd_v_d_5'] + row['svd_v_s_6']*row['svd_v_d_6']\n",
        "\n",
        "        svd_dot_u.append(u_dot)\n",
        "        svd_dot_v.append(v_dot)\n",
        "\n",
        "    return svd_dot_u, svd_dot_v"
      ],
      "execution_count": 59,
      "outputs": []
    },
    {
      "cell_type": "code",
      "metadata": {
        "id": "6qk1MUCIFvho"
      },
      "source": [
        "df_final_train['svd_dot_u'], df_final_train['svd_dot_v'] = compute_svd_dot(df_final_train)\n",
        "\n",
        "df_final_test['svd_dot_u'], df_final_test['svd_dot_v'] = compute_svd_dot(df_final_test)\n"
      ],
      "execution_count": 60,
      "outputs": []
    },
    {
      "cell_type": "code",
      "metadata": {
        "id": "5envi6vuFvdy"
      },
      "source": [
        ""
      ],
      "execution_count": 33,
      "outputs": []
    },
    {
      "cell_type": "code",
      "metadata": {
        "id": "OxRQKP12FvaO"
      },
      "source": [
        ""
      ],
      "execution_count": 33,
      "outputs": []
    },
    {
      "cell_type": "code",
      "metadata": {
        "id": "5Gm-BHRkHglW",
        "colab": {
          "base_uri": "https://localhost:8080/"
        },
        "outputId": "af3bbb03-fcfa-4dd7-d3b5-bcb392782696"
      },
      "source": [
        "df_final_train.columns"
      ],
      "execution_count": 61,
      "outputs": [
        {
          "output_type": "execute_result",
          "data": {
            "text/plain": [
              "Index(['source_node', 'destination_node', 'indicator_link',\n",
              "       'jaccard_followers', 'jaccard_followees', 'cosine_followers',\n",
              "       'cosine_followees', 'num_followers_s', 'num_followees_s',\n",
              "       'num_followees_d', 'inter_followers', 'inter_followees', 'adar_index',\n",
              "       'follows_back', 'same_comp', 'shortest_path', 'weight_in', 'weight_out',\n",
              "       'weight_f1', 'weight_f2', 'weight_f3', 'weight_f4', 'page_rank_s',\n",
              "       'page_rank_d', 'katz_s', 'katz_d', 'hubs_s', 'hubs_d', 'authorities_s',\n",
              "       'authorities_d', 'svd_u_s_1', 'svd_u_s_2', 'svd_u_s_3', 'svd_u_s_4',\n",
              "       'svd_u_s_5', 'svd_u_s_6', 'svd_u_d_1', 'svd_u_d_2', 'svd_u_d_3',\n",
              "       'svd_u_d_4', 'svd_u_d_5', 'svd_u_d_6', 'svd_v_s_1', 'svd_v_s_2',\n",
              "       'svd_v_s_3', 'svd_v_s_4', 'svd_v_s_5', 'svd_v_s_6', 'svd_v_d_1',\n",
              "       'svd_v_d_2', 'svd_v_d_3', 'svd_v_d_4', 'svd_v_d_5', 'svd_v_d_6',\n",
              "       'preferential_attachment', 'svd_dot_u', 'svd_dot_v'],\n",
              "      dtype='object')"
            ]
          },
          "metadata": {
            "tags": []
          },
          "execution_count": 61
        }
      ]
    },
    {
      "cell_type": "code",
      "metadata": {
        "colab": {
          "base_uri": "https://localhost:8080/",
          "height": 313
        },
        "id": "xDavk6g2P1C7",
        "outputId": "19aff952-f70e-4bdc-c288-359abfd8950a"
      },
      "source": [
        "df_final_train.tail()"
      ],
      "execution_count": 62,
      "outputs": [
        {
          "output_type": "execute_result",
          "data": {
            "text/html": [
              "<div>\n",
              "<style scoped>\n",
              "    .dataframe tbody tr th:only-of-type {\n",
              "        vertical-align: middle;\n",
              "    }\n",
              "\n",
              "    .dataframe tbody tr th {\n",
              "        vertical-align: top;\n",
              "    }\n",
              "\n",
              "    .dataframe thead th {\n",
              "        text-align: right;\n",
              "    }\n",
              "</style>\n",
              "<table border=\"1\" class=\"dataframe\">\n",
              "  <thead>\n",
              "    <tr style=\"text-align: right;\">\n",
              "      <th></th>\n",
              "      <th>source_node</th>\n",
              "      <th>destination_node</th>\n",
              "      <th>indicator_link</th>\n",
              "      <th>jaccard_followers</th>\n",
              "      <th>jaccard_followees</th>\n",
              "      <th>cosine_followers</th>\n",
              "      <th>cosine_followees</th>\n",
              "      <th>num_followers_s</th>\n",
              "      <th>num_followees_s</th>\n",
              "      <th>num_followees_d</th>\n",
              "      <th>inter_followers</th>\n",
              "      <th>inter_followees</th>\n",
              "      <th>adar_index</th>\n",
              "      <th>follows_back</th>\n",
              "      <th>same_comp</th>\n",
              "      <th>shortest_path</th>\n",
              "      <th>weight_in</th>\n",
              "      <th>weight_out</th>\n",
              "      <th>weight_f1</th>\n",
              "      <th>weight_f2</th>\n",
              "      <th>weight_f3</th>\n",
              "      <th>weight_f4</th>\n",
              "      <th>page_rank_s</th>\n",
              "      <th>page_rank_d</th>\n",
              "      <th>katz_s</th>\n",
              "      <th>katz_d</th>\n",
              "      <th>hubs_s</th>\n",
              "      <th>hubs_d</th>\n",
              "      <th>authorities_s</th>\n",
              "      <th>authorities_d</th>\n",
              "      <th>svd_u_s_1</th>\n",
              "      <th>svd_u_s_2</th>\n",
              "      <th>svd_u_s_3</th>\n",
              "      <th>svd_u_s_4</th>\n",
              "      <th>svd_u_s_5</th>\n",
              "      <th>svd_u_s_6</th>\n",
              "      <th>svd_u_d_1</th>\n",
              "      <th>svd_u_d_2</th>\n",
              "      <th>svd_u_d_3</th>\n",
              "      <th>svd_u_d_4</th>\n",
              "      <th>svd_u_d_5</th>\n",
              "      <th>svd_u_d_6</th>\n",
              "      <th>svd_v_s_1</th>\n",
              "      <th>svd_v_s_2</th>\n",
              "      <th>svd_v_s_3</th>\n",
              "      <th>svd_v_s_4</th>\n",
              "      <th>svd_v_s_5</th>\n",
              "      <th>svd_v_s_6</th>\n",
              "      <th>svd_v_d_1</th>\n",
              "      <th>svd_v_d_2</th>\n",
              "      <th>svd_v_d_3</th>\n",
              "      <th>svd_v_d_4</th>\n",
              "      <th>svd_v_d_5</th>\n",
              "      <th>svd_v_d_6</th>\n",
              "      <th>preferential_attachment</th>\n",
              "      <th>svd_dot_u</th>\n",
              "      <th>svd_dot_v</th>\n",
              "    </tr>\n",
              "  </thead>\n",
              "  <tbody>\n",
              "    <tr>\n",
              "      <th>99997</th>\n",
              "      <td>139353</td>\n",
              "      <td>893843</td>\n",
              "      <td>0</td>\n",
              "      <td>0</td>\n",
              "      <td>0.0</td>\n",
              "      <td>0.0</td>\n",
              "      <td>0.0</td>\n",
              "      <td>7</td>\n",
              "      <td>1</td>\n",
              "      <td>10</td>\n",
              "      <td>0</td>\n",
              "      <td>0</td>\n",
              "      <td>0.0</td>\n",
              "      <td>0</td>\n",
              "      <td>0</td>\n",
              "      <td>-1</td>\n",
              "      <td>0.353553</td>\n",
              "      <td>0.707107</td>\n",
              "      <td>1.060660</td>\n",
              "      <td>0.250000</td>\n",
              "      <td>1.414214</td>\n",
              "      <td>1.767767</td>\n",
              "      <td>1.655650e-07</td>\n",
              "      <td>7.746044e-07</td>\n",
              "      <td>0.000731</td>\n",
              "      <td>0.000763</td>\n",
              "      <td>0.000000e+00</td>\n",
              "      <td>2.622256e-15</td>\n",
              "      <td>0.000000e+00</td>\n",
              "      <td>3.937186e-15</td>\n",
              "      <td>-8.054752e-21</td>\n",
              "      <td>1.421835e-20</td>\n",
              "      <td>-1.478472e-20</td>\n",
              "      <td>-1.297495e-20</td>\n",
              "      <td>-1.017512e-20</td>\n",
              "      <td>-3.176253e-21</td>\n",
              "      <td>-2.192930e-11</td>\n",
              "      <td>4.968431e-13</td>\n",
              "      <td>5.969920e-06</td>\n",
              "      <td>1.545111e-12</td>\n",
              "      <td>8.401409e-12</td>\n",
              "      <td>4.837882e-14</td>\n",
              "      <td>0.000000e+00</td>\n",
              "      <td>0.000000e+00</td>\n",
              "      <td>0.000000e+00</td>\n",
              "      <td>0.000000e+00</td>\n",
              "      <td>0.000000e+00</td>\n",
              "      <td>0.000000e+00</td>\n",
              "      <td>-3.303718e-12</td>\n",
              "      <td>1.538318e-13</td>\n",
              "      <td>1.296745e-06</td>\n",
              "      <td>2.990887e-13</td>\n",
              "      <td>1.589668e-12</td>\n",
              "      <td>7.338551e-14</td>\n",
              "      <td>0</td>\n",
              "      <td>-8.826350e-26</td>\n",
              "      <td>0.000000e+00</td>\n",
              "    </tr>\n",
              "    <tr>\n",
              "      <th>99998</th>\n",
              "      <td>910842</td>\n",
              "      <td>704068</td>\n",
              "      <td>0</td>\n",
              "      <td>0</td>\n",
              "      <td>0.0</td>\n",
              "      <td>0.0</td>\n",
              "      <td>0.0</td>\n",
              "      <td>0</td>\n",
              "      <td>4</td>\n",
              "      <td>1</td>\n",
              "      <td>0</td>\n",
              "      <td>0</td>\n",
              "      <td>0.0</td>\n",
              "      <td>0</td>\n",
              "      <td>1</td>\n",
              "      <td>-1</td>\n",
              "      <td>1.000000</td>\n",
              "      <td>0.447214</td>\n",
              "      <td>1.447214</td>\n",
              "      <td>0.447214</td>\n",
              "      <td>2.447214</td>\n",
              "      <td>1.894427</td>\n",
              "      <td>2.619498e-07</td>\n",
              "      <td>1.655650e-07</td>\n",
              "      <td>0.000739</td>\n",
              "      <td>0.000731</td>\n",
              "      <td>2.985245e-19</td>\n",
              "      <td>4.209193e-25</td>\n",
              "      <td>2.937528e-19</td>\n",
              "      <td>0.000000e+00</td>\n",
              "      <td>-1.896211e-14</td>\n",
              "      <td>7.978555e-14</td>\n",
              "      <td>4.544702e-13</td>\n",
              "      <td>2.878219e-13</td>\n",
              "      <td>4.151745e-12</td>\n",
              "      <td>5.545048e-18</td>\n",
              "      <td>9.285854e-20</td>\n",
              "      <td>7.876028e-20</td>\n",
              "      <td>2.108260e-19</td>\n",
              "      <td>3.535153e-20</td>\n",
              "      <td>7.796579e-21</td>\n",
              "      <td>-2.898171e-20</td>\n",
              "      <td>-9.013745e-14</td>\n",
              "      <td>3.090967e-15</td>\n",
              "      <td>1.336987e-12</td>\n",
              "      <td>4.493330e-15</td>\n",
              "      <td>4.528679e-14</td>\n",
              "      <td>5.475207e-18</td>\n",
              "      <td>0.000000e+00</td>\n",
              "      <td>0.000000e+00</td>\n",
              "      <td>0.000000e+00</td>\n",
              "      <td>0.000000e+00</td>\n",
              "      <td>0.000000e+00</td>\n",
              "      <td>0.000000e+00</td>\n",
              "      <td>0</td>\n",
              "      <td>1.428815e-31</td>\n",
              "      <td>0.000000e+00</td>\n",
              "    </tr>\n",
              "    <tr>\n",
              "      <th>99999</th>\n",
              "      <td>794228</td>\n",
              "      <td>1172755</td>\n",
              "      <td>0</td>\n",
              "      <td>0</td>\n",
              "      <td>0.0</td>\n",
              "      <td>0.0</td>\n",
              "      <td>0.0</td>\n",
              "      <td>0</td>\n",
              "      <td>5</td>\n",
              "      <td>1</td>\n",
              "      <td>0</td>\n",
              "      <td>0</td>\n",
              "      <td>0.0</td>\n",
              "      <td>0</td>\n",
              "      <td>1</td>\n",
              "      <td>-1</td>\n",
              "      <td>1.000000</td>\n",
              "      <td>0.408248</td>\n",
              "      <td>1.408248</td>\n",
              "      <td>0.408248</td>\n",
              "      <td>2.408248</td>\n",
              "      <td>1.816497</td>\n",
              "      <td>3.360416e-07</td>\n",
              "      <td>1.655650e-07</td>\n",
              "      <td>0.000743</td>\n",
              "      <td>0.000731</td>\n",
              "      <td>1.300126e-15</td>\n",
              "      <td>1.067222e-18</td>\n",
              "      <td>1.874225e-15</td>\n",
              "      <td>0.000000e+00</td>\n",
              "      <td>-1.996064e-11</td>\n",
              "      <td>4.440515e-14</td>\n",
              "      <td>9.932421e-09</td>\n",
              "      <td>6.889877e-13</td>\n",
              "      <td>3.037478e-13</td>\n",
              "      <td>2.398630e-14</td>\n",
              "      <td>-3.132587e-15</td>\n",
              "      <td>1.371651e-14</td>\n",
              "      <td>4.186120e-14</td>\n",
              "      <td>1.625085e-15</td>\n",
              "      <td>5.879546e-15</td>\n",
              "      <td>1.976197e-17</td>\n",
              "      <td>-9.792788e-10</td>\n",
              "      <td>1.600031e-13</td>\n",
              "      <td>2.154438e-11</td>\n",
              "      <td>1.566738e-12</td>\n",
              "      <td>2.294564e-13</td>\n",
              "      <td>3.493379e-14</td>\n",
              "      <td>0.000000e+00</td>\n",
              "      <td>0.000000e+00</td>\n",
              "      <td>0.000000e+00</td>\n",
              "      <td>0.000000e+00</td>\n",
              "      <td>0.000000e+00</td>\n",
              "      <td>0.000000e+00</td>\n",
              "      <td>0</td>\n",
              "      <td>4.158491e-22</td>\n",
              "      <td>0.000000e+00</td>\n",
              "    </tr>\n",
              "    <tr>\n",
              "      <th>100000</th>\n",
              "      <td>949992</td>\n",
              "      <td>1854931</td>\n",
              "      <td>0</td>\n",
              "      <td>0</td>\n",
              "      <td>0.0</td>\n",
              "      <td>0.0</td>\n",
              "      <td>0.0</td>\n",
              "      <td>1</td>\n",
              "      <td>2</td>\n",
              "      <td>0</td>\n",
              "      <td>0</td>\n",
              "      <td>0</td>\n",
              "      <td>0.0</td>\n",
              "      <td>0</td>\n",
              "      <td>1</td>\n",
              "      <td>10</td>\n",
              "      <td>0.707107</td>\n",
              "      <td>0.577350</td>\n",
              "      <td>1.284457</td>\n",
              "      <td>0.408248</td>\n",
              "      <td>1.991564</td>\n",
              "      <td>1.861807</td>\n",
              "      <td>2.848986e-07</td>\n",
              "      <td>3.246765e-07</td>\n",
              "      <td>0.000735</td>\n",
              "      <td>0.000735</td>\n",
              "      <td>1.003286e-17</td>\n",
              "      <td>0.000000e+00</td>\n",
              "      <td>1.428238e-17</td>\n",
              "      <td>1.871381e-21</td>\n",
              "      <td>-5.265417e-15</td>\n",
              "      <td>1.026814e-13</td>\n",
              "      <td>1.960640e-11</td>\n",
              "      <td>9.255098e-16</td>\n",
              "      <td>2.723477e-15</td>\n",
              "      <td>1.851237e-16</td>\n",
              "      <td>1.944182e-19</td>\n",
              "      <td>-2.015144e-19</td>\n",
              "      <td>2.204463e-19</td>\n",
              "      <td>1.680689e-19</td>\n",
              "      <td>1.344908e-19</td>\n",
              "      <td>1.727458e-20</td>\n",
              "      <td>-2.903545e-15</td>\n",
              "      <td>3.809135e-15</td>\n",
              "      <td>1.620187e-11</td>\n",
              "      <td>1.325874e-15</td>\n",
              "      <td>2.066643e-14</td>\n",
              "      <td>2.662102e-16</td>\n",
              "      <td>-1.142753e-17</td>\n",
              "      <td>5.200344e-17</td>\n",
              "      <td>3.858875e-15</td>\n",
              "      <td>2.173437e-17</td>\n",
              "      <td>2.241477e-16</td>\n",
              "      <td>3.528355e-20</td>\n",
              "      <td>1</td>\n",
              "      <td>4.300967e-30</td>\n",
              "      <td>6.252591e-26</td>\n",
              "    </tr>\n",
              "    <tr>\n",
              "      <th>100001</th>\n",
              "      <td>1642037</td>\n",
              "      <td>1090977</td>\n",
              "      <td>0</td>\n",
              "      <td>0</td>\n",
              "      <td>0.0</td>\n",
              "      <td>0.0</td>\n",
              "      <td>0.0</td>\n",
              "      <td>1</td>\n",
              "      <td>14</td>\n",
              "      <td>0</td>\n",
              "      <td>0</td>\n",
              "      <td>0</td>\n",
              "      <td>0.0</td>\n",
              "      <td>0</td>\n",
              "      <td>1</td>\n",
              "      <td>8</td>\n",
              "      <td>0.707107</td>\n",
              "      <td>0.258199</td>\n",
              "      <td>0.965306</td>\n",
              "      <td>0.182574</td>\n",
              "      <td>1.672412</td>\n",
              "      <td>1.223505</td>\n",
              "      <td>3.317631e-06</td>\n",
              "      <td>1.697892e-07</td>\n",
              "      <td>0.000792</td>\n",
              "      <td>0.000735</td>\n",
              "      <td>2.654093e-16</td>\n",
              "      <td>0.000000e+00</td>\n",
              "      <td>3.962767e-15</td>\n",
              "      <td>1.504913e-15</td>\n",
              "      <td>-9.675415e-08</td>\n",
              "      <td>5.380918e-12</td>\n",
              "      <td>1.058150e-09</td>\n",
              "      <td>4.493298e-13</td>\n",
              "      <td>2.880749e-11</td>\n",
              "      <td>4.896858e-15</td>\n",
              "      <td>-1.074557e-19</td>\n",
              "      <td>1.235671e-19</td>\n",
              "      <td>-1.240591e-19</td>\n",
              "      <td>-1.099916e-19</td>\n",
              "      <td>-7.405038e-20</td>\n",
              "      <td>-1.247210e-20</td>\n",
              "      <td>-3.070695e-12</td>\n",
              "      <td>9.899146e-11</td>\n",
              "      <td>7.778089e-09</td>\n",
              "      <td>8.005625e-13</td>\n",
              "      <td>9.429577e-11</td>\n",
              "      <td>7.386157e-14</td>\n",
              "      <td>-1.657134e-14</td>\n",
              "      <td>2.085059e-14</td>\n",
              "      <td>2.107704e-07</td>\n",
              "      <td>2.652994e-12</td>\n",
              "      <td>2.004727e-14</td>\n",
              "      <td>2.805020e-14</td>\n",
              "      <td>16</td>\n",
              "      <td>1.026399e-26</td>\n",
              "      <td>1.639391e-15</td>\n",
              "    </tr>\n",
              "  </tbody>\n",
              "</table>\n",
              "</div>"
            ],
            "text/plain": [
              "        source_node  destination_node  ...     svd_dot_u     svd_dot_v\n",
              "99997        139353            893843  ... -8.826350e-26  0.000000e+00\n",
              "99998        910842            704068  ...  1.428815e-31  0.000000e+00\n",
              "99999        794228           1172755  ...  4.158491e-22  0.000000e+00\n",
              "100000       949992           1854931  ...  4.300967e-30  6.252591e-26\n",
              "100001      1642037           1090977  ...  1.026399e-26  1.639391e-15\n",
              "\n",
              "[5 rows x 57 columns]"
            ]
          },
          "metadata": {
            "tags": []
          },
          "execution_count": 62
        }
      ]
    },
    {
      "cell_type": "code",
      "metadata": {
        "id": "XRW7VZ4AHglc"
      },
      "source": [
        "y_train = df_final_train.indicator_link\n",
        "y_test = df_final_test.indicator_link"
      ],
      "execution_count": 63,
      "outputs": []
    },
    {
      "cell_type": "code",
      "metadata": {
        "id": "4lj9M_qtHglf"
      },
      "source": [
        "df_final_train.drop(['source_node', 'destination_node','indicator_link'],axis=1,inplace=True)\n",
        "df_final_test.drop(['source_node', 'destination_node','indicator_link'],axis=1,inplace=True)"
      ],
      "execution_count": 64,
      "outputs": []
    },
    {
      "cell_type": "code",
      "metadata": {
        "id": "lIEc91uVHgli",
        "colab": {
          "base_uri": "https://localhost:8080/",
          "height": 398
        },
        "outputId": "748b0a7a-8234-4f52-8367-92bc9e3f23f7"
      },
      "source": [
        "# estimators = [10,50,100,250,450]\n",
        "# train_scores = []\n",
        "# test_scores = []\n",
        "# for i in estimators:\n",
        "#     clf = RandomForestClassifier(bootstrap=True, class_weight=None, criterion='gini',\n",
        "#             max_depth=5, max_features='auto', max_leaf_nodes=None,\n",
        "#             min_impurity_decrease=0.0, min_impurity_split=None,\n",
        "#             min_samples_leaf=52, min_samples_split=120,\n",
        "#             min_weight_fraction_leaf=0.0, n_estimators=i, n_jobs=-1,random_state=25,verbose=0,warm_start=False)\n",
        "#     clf.fit(df_final_train,y_train)\n",
        "#     train_sc = f1_score(y_train,clf.predict(df_final_train))\n",
        "#     test_sc = f1_score(y_test,clf.predict(df_final_test))\n",
        "#     test_scores.append(test_sc)\n",
        "#     train_scores.append(train_sc)\n",
        "#     print('Estimators = ',i,'Train Score',train_sc,'test Score',test_sc)\n",
        "# plt.plot(estimators,train_scores,label='Train Score')\n",
        "# plt.plot(estimators,test_scores,label='Test Score')\n",
        "# plt.xlabel('Estimators')\n",
        "# plt.ylabel('Score')\n",
        "# plt.title('Estimators vs score at depth of 5')"
      ],
      "execution_count": null,
      "outputs": [
        {
          "output_type": "stream",
          "text": [
            "Estimators =  10 Train Score 0.9063252121775113 test Score 0.8745605278006858\n",
            "Estimators =  50 Train Score 0.9205725512208812 test Score 0.9125653355634538\n",
            "Estimators =  100 Train Score 0.9238690848446947 test Score 0.9141199714153599\n",
            "Estimators =  250 Train Score 0.9239789348046863 test Score 0.9188007232664732\n",
            "Estimators =  450 Train Score 0.9237190618658074 test Score 0.9161507685828595\n"
          ],
          "name": "stdout"
        },
        {
          "output_type": "execute_result",
          "data": {
            "text/plain": [
              "Text(0.5, 1.0, 'Estimators vs score at depth of 5')"
            ]
          },
          "metadata": {
            "tags": []
          },
          "execution_count": 8
        },
        {
          "output_type": "display_data",
          "data": {
            "image/png": "[encoded data removed]",
            "text/plain": [
              "<Figure size 432x288 with 1 Axes>"
            ]
          },
          "metadata": {
            "tags": [],
            "needs_background": "light"
          }
        }
      ]
    },
    {
      "cell_type": "code",
      "metadata": {
        "id": "nZxhrTdQHglm",
        "outputId": "53382b8e-148d-4c22-8066-d9807fb27012"
      },
      "source": [
        "# depths = [3,9,11,15,20,35,50,70,130]\n",
        "# train_scores = []\n",
        "# test_scores = []\n",
        "# for i in depths:\n",
        "#     clf = RandomForestClassifier(bootstrap=True, class_weight=None, criterion='gini',\n",
        "#             max_depth=i, max_features='auto', max_leaf_nodes=None,\n",
        "#             min_impurity_decrease=0.0, min_impurity_split=None,\n",
        "#             min_samples_leaf=52, min_samples_split=120,\n",
        "#             min_weight_fraction_leaf=0.0, n_estimators=115, n_jobs=-1,random_state=25,verbose=0,warm_start=False)\n",
        "#     clf.fit(df_final_train,y_train)\n",
        "#     train_sc = f1_score(y_train,clf.predict(df_final_train))\n",
        "#     test_sc = f1_score(y_test,clf.predict(df_final_test))\n",
        "#     test_scores.append(test_sc)\n",
        "#     train_scores.append(train_sc)\n",
        "#     print('depth = ',i,'Train Score',train_sc,'test Score',test_sc)\n",
        "# plt.plot(depths,train_scores,label='Train Score')\n",
        "# plt.plot(depths,test_scores,label='Test Score')\n",
        "# plt.xlabel('Depth')\n",
        "# plt.ylabel('Score')\n",
        "# plt.title('Depth vs score at depth of 5 at estimators = 115')\n",
        "# plt.show()"
      ],
      "execution_count": null,
      "outputs": [
        {
          "output_type": "stream",
          "text": [
            "depth =  3 Train Score 0.8916120853581238 test Score 0.8687934859875491\n",
            "depth =  9 Train Score 0.9572226298198419 test Score 0.9222953031452904\n",
            "depth =  11 Train Score 0.9623451340902863 test Score 0.9252318758281279\n",
            "depth =  15 Train Score 0.9634267621927706 test Score 0.9231288356496615\n",
            "depth =  20 Train Score 0.9631629153051491 test Score 0.9235051024711141\n",
            "depth =  35 Train Score 0.9634333127085721 test Score 0.9235601652753184\n",
            "depth =  50 Train Score 0.9634333127085721 test Score 0.9235601652753184\n",
            "depth =  70 Train Score 0.9634333127085721 test Score 0.9235601652753184\n",
            "depth =  130 Train Score 0.9634333127085721 test Score 0.9235601652753184\n"
          ],
          "name": "stdout"
        },
        {
          "output_type": "display_data",
          "data": {
            "image/png": "[encoded data removed]",
            "text/plain": [
              "<Figure size 432x288 with 1 Axes>"
            ]
          },
          "metadata": {
            "tags": []
          }
        }
      ]
    },
    {
      "cell_type": "code",
      "metadata": {
        "id": "MrG1Lfl3Hglq",
        "outputId": "7b6e3c97-8d66-455d-cd79-213f824719cc"
      },
      "source": [
        "# from sklearn.metrics import f1_score\n",
        "# from sklearn.ensemble import RandomForestClassifier\n",
        "# from sklearn.metrics import f1_score\n",
        "# from sklearn.model_selection import RandomizedSearchCV\n",
        "# from scipy.stats import randint as sp_randint\n",
        "# from scipy.stats import uniform\n",
        "\n",
        "# param_dist = {\"n_estimators\":sp_randint(105,125),\n",
        "#               \"max_depth\": sp_randint(10,15),\n",
        "#               \"min_samples_split\": sp_randint(110,190),\n",
        "#               \"min_samples_leaf\": sp_randint(25,65)}\n",
        "\n",
        "# clf = RandomForestClassifier(random_state=25,n_jobs=-1)\n",
        "\n",
        "# rf_random = RandomizedSearchCV(clf, param_distributions=param_dist,\n",
        "#                                    n_iter=5,cv=10,scoring='f1',random_state=25)\n",
        "\n",
        "# rf_random.fit(df_final_train,y_train)\n",
        "# print('mean test scores',rf_random.cv_results_['mean_test_score'])\n",
        "# print('mean train scores',rf_random.cv_results_['mean_train_score'])"
      ],
      "execution_count": null,
      "outputs": [
        {
          "output_type": "stream",
          "text": [
            "mean test scores [0.96225043 0.96215493 0.96057081 0.96194015 0.96330005]\n",
            "mean train scores [0.96294922 0.96266735 0.96115674 0.96263457 0.96430539]\n"
          ],
          "name": "stdout"
        }
      ]
    },
    {
      "cell_type": "code",
      "metadata": {
        "id": "hme3j_diHglu",
        "outputId": "581ccc02-7770-4a94-d003-257af4e81570"
      },
      "source": [
        "# print(rf_random.best_estimator_)"
      ],
      "execution_count": null,
      "outputs": [
        {
          "output_type": "stream",
          "text": [
            "RandomForestClassifier(bootstrap=True, class_weight=None, criterion='gini',\n",
            "            max_depth=14, max_features='auto', max_leaf_nodes=None,\n",
            "            min_impurity_decrease=0.0, min_impurity_split=None,\n",
            "            min_samples_leaf=28, min_samples_split=111,\n",
            "            min_weight_fraction_leaf=0.0, n_estimators=121, n_jobs=-1,\n",
            "            oob_score=False, random_state=25, verbose=0, warm_start=False)\n"
          ],
          "name": "stdout"
        }
      ]
    },
    {
      "cell_type": "code",
      "metadata": {
        "id": "qu4KIEweHglx"
      },
      "source": [
        "# clf = RandomForestClassifier(bootstrap=True, class_weight=None, criterion='gini',\n",
        "#             max_depth=14, max_features='auto', max_leaf_nodes=None,\n",
        "#             min_impurity_decrease=0.0, min_impurity_split=None,\n",
        "#             min_samples_leaf=28, min_samples_split=111,\n",
        "#             min_weight_fraction_leaf=0.0, n_estimators=121, n_jobs=-1,\n",
        "#             oob_score=False, random_state=25, verbose=0, warm_start=False)"
      ],
      "execution_count": null,
      "outputs": []
    },
    {
      "cell_type": "code",
      "metadata": {
        "id": "Dax83GfLHgl1"
      },
      "source": [
        "# clf.fit(df_final_train,y_train)\n",
        "# y_train_pred = clf.predict(df_final_train)\n",
        "# y_test_pred = clf.predict(df_final_test)"
      ],
      "execution_count": null,
      "outputs": []
    },
    {
      "cell_type": "code",
      "metadata": {
        "id": "PTtAp1iTHgl4",
        "outputId": "e2e3d725-3c4d-4374-d303-8f294b570977"
      },
      "source": [
        "# from sklearn.metrics import f1_score\n",
        "# print('Train f1 score',f1_score(y_train,y_train_pred))\n",
        "# print('Test f1 score',f1_score(y_test,y_test_pred))"
      ],
      "execution_count": null,
      "outputs": [
        {
          "output_type": "stream",
          "text": [
            "Train f1 score 0.9652533106548414\n",
            "Test f1 score 0.9241678239279553\n"
          ],
          "name": "stdout"
        }
      ]
    },
    {
      "cell_type": "code",
      "metadata": {
        "id": "5XfUkZYQHgl7"
      },
      "source": [
        "# from sklearn.metrics import confusion_matrix\n",
        "# def plot_confusion_matrix(test_y, predict_y):\n",
        "#     C = confusion_matrix(test_y, predict_y)\n",
        "    \n",
        "#     A =(((C.T)/(C.sum(axis=1))).T)\n",
        "    \n",
        "#     B =(C/C.sum(axis=0))\n",
        "#     plt.figure(figsize=(20,4))\n",
        "    \n",
        "#     labels = [0,1]\n",
        "#     # representing A in heatmap format\n",
        "#     cmap=sns.light_palette(\"blue\")\n",
        "#     plt.subplot(1, 3, 1)\n",
        "#     sns.heatmap(C, annot=True, cmap=cmap, fmt=\".3f\", xticklabels=labels, yticklabels=labels)\n",
        "#     plt.xlabel('Predicted Class')\n",
        "#     plt.ylabel('Original Class')\n",
        "#     plt.title(\"Confusion matrix\")\n",
        "    \n",
        "#     plt.subplot(1, 3, 2)\n",
        "#     sns.heatmap(B, annot=True, cmap=cmap, fmt=\".3f\", xticklabels=labels, yticklabels=labels)\n",
        "#     plt.xlabel('Predicted Class')\n",
        "#     plt.ylabel('Original Class')\n",
        "#     plt.title(\"Precision matrix\")\n",
        "    \n",
        "#     plt.subplot(1, 3, 3)\n",
        "#     # representing B in heatmap format\n",
        "#     sns.heatmap(A, annot=True, cmap=cmap, fmt=\".3f\", xticklabels=labels, yticklabels=labels)\n",
        "#     plt.xlabel('Predicted Class')\n",
        "#     plt.ylabel('Original Class')\n",
        "#     plt.title(\"Recall matrix\")\n",
        "    \n",
        "#     plt.show()"
      ],
      "execution_count": null,
      "outputs": []
    },
    {
      "cell_type": "code",
      "metadata": {
        "id": "s6t11dhTHgl-",
        "outputId": "189de3be-1c99-4653-f56f-12b18b0f4db7"
      },
      "source": [
        "# print('Train confusion_matrix')\n",
        "# plot_confusion_matrix(y_train,y_train_pred)\n",
        "# print('Test confusion_matrix')\n",
        "# plot_confusion_matrix(y_test,y_test_pred)"
      ],
      "execution_count": null,
      "outputs": [
        {
          "output_type": "stream",
          "text": [
            "Train confusion_matrix\n"
          ],
          "name": "stdout"
        },
        {
          "output_type": "display_data",
          "data": {
            "image/png": "[encoded data removed]",
            "text/plain": [
              "<Figure size 1440x288 with 6 Axes>"
            ]
          },
          "metadata": {
            "tags": []
          }
        },
        {
          "output_type": "stream",
          "text": [
            "Test confusion_matrix\n"
          ],
          "name": "stdout"
        },
        {
          "output_type": "display_data",
          "data": {
            "image/png": "[encoded data removed]",
            "text/plain": [
              "<Figure size 1440x288 with 6 Axes>"
            ]
          },
          "metadata": {
            "tags": []
          }
        }
      ]
    },
    {
      "cell_type": "code",
      "metadata": {
        "id": "61TF-VLeHgmD",
        "outputId": "795f1b39-61c7-470f-e2d0-1fe6dc7ac5fd"
      },
      "source": [
        "# from sklearn.metrics import roc_curve, auc\n",
        "# fpr,tpr,ths = roc_curve(y_test,y_test_pred)\n",
        "# auc_sc = auc(fpr, tpr)\n",
        "# plt.plot(fpr, tpr, color='navy',label='ROC curve (area = %0.2f)' % auc_sc)\n",
        "# plt.xlabel('False Positive Rate')\n",
        "# plt.ylabel('True Positive Rate')\n",
        "# plt.title('Receiver operating characteristic with test data')\n",
        "# plt.legend()\n",
        "# plt.show()"
      ],
      "execution_count": null,
      "outputs": [
        {
          "output_type": "display_data",
          "data": {
            "image/png": "[encoded data removed]",
            "text/plain": [
              "<Figure size 432x288 with 1 Axes>"
            ]
          },
          "metadata": {
            "tags": []
          }
        }
      ]
    },
    {
      "cell_type": "code",
      "metadata": {
        "scrolled": false,
        "id": "HEZ7uvN6HgmK",
        "outputId": "6f762256-54fc-4e2f-865b-22342033eb2c"
      },
      "source": [
        "# features = df_final_train.columns\n",
        "# importances = clf.feature_importances_\n",
        "# indices = (np.argsort(importances))[-25:]\n",
        "# plt.figure(figsize=(10,12))\n",
        "# plt.title('Feature Importances')\n",
        "# plt.barh(range(len(indices)), importances[indices], color='r', align='center')\n",
        "# plt.yticks(range(len(indices)), [features[i] for i in indices])\n",
        "# plt.xlabel('Relative Importance')\n",
        "# plt.show()"
      ],
      "execution_count": null,
      "outputs": [
        {
          "output_type": "display_data",
          "data": {
            "image/png": "[encoded data removed]",
            "text/plain": [
              "<Figure size 720x864 with 1 Axes>"
            ]
          },
          "metadata": {
            "tags": []
          }
        }
      ]
    },
    {
      "cell_type": "markdown",
      "metadata": {
        "id": "xdHW32hcHgmN"
      },
      "source": [
        "# Assignments:\n",
        "\n",
        "1. Add another feature called  Preferential Attachment  with followers and followees data of vertex. you can check about Preferential Attachment in below link\n",
        "http://be.amazd.com/link-prediction/ <br>\n",
        "2. Add  feature called svd_dot. you can calculate svd_dot as Dot product between sourse node svd and destination node svd features.  you can read about this in below pdf \n",
        "https://storage.googleapis.com/kaggle-forum-message-attachments/2594/supervised_link_prediction.pdf<br>\n",
        "3. Tune hyperparameters for XG boost with all these features and check the error metric."
      ]
    },
    {
      "cell_type": "code",
      "metadata": {
        "colab": {
          "base_uri": "https://localhost:8080/"
        },
        "id": "uFZmRBBjMA6i",
        "outputId": "4cd14417-5c01-4910-9c3b-2738dd8ec299"
      },
      "source": [
        "#Modelling with XGBoost\n",
        "df_final_train.columns"
      ],
      "execution_count": 24,
      "outputs": [
        {
          "output_type": "execute_result",
          "data": {
            "text/plain": [
              "Index(['jaccard_followers', 'jaccard_followees', 'cosine_followers',\n",
              "       'cosine_followees', 'num_followers_s', 'num_followees_s',\n",
              "       'num_followees_d', 'inter_followers', 'inter_followees', 'adar_index',\n",
              "       'follows_back', 'same_comp', 'shortest_path', 'weight_in', 'weight_out',\n",
              "       'weight_f1', 'weight_f2', 'weight_f3', 'weight_f4', 'page_rank_s',\n",
              "       'page_rank_d', 'katz_s', 'katz_d', 'hubs_s', 'hubs_d', 'authorities_s',\n",
              "       'authorities_d', 'svd_u_s_1', 'svd_u_s_2', 'svd_u_s_3', 'svd_u_s_4',\n",
              "       'svd_u_s_5', 'svd_u_s_6', 'svd_u_d_1', 'svd_u_d_2', 'svd_u_d_3',\n",
              "       'svd_u_d_4', 'svd_u_d_5', 'svd_u_d_6', 'svd_v_s_1', 'svd_v_s_2',\n",
              "       'svd_v_s_3', 'svd_v_s_4', 'svd_v_s_5', 'svd_v_s_6', 'svd_v_d_1',\n",
              "       'svd_v_d_2', 'svd_v_d_3', 'svd_v_d_4', 'svd_v_d_5', 'svd_v_d_6',\n",
              "       'preferential_attachment', 'svd_dot_u', 'svd_dot_v'],\n",
              "      dtype='object')"
            ]
          },
          "metadata": {
            "tags": []
          },
          "execution_count": 24
        }
      ]
    },
    {
      "cell_type": "code",
      "metadata": {
        "colab": {
          "base_uri": "https://localhost:8080/"
        },
        "id": "o1JsZ29PMA4z",
        "outputId": "391f7432-654f-4ae5-f540-e80d73086764"
      },
      "source": [
        "df_final_train[df_final_train['num_followers_s']!=0].shape"
      ],
      "execution_count": 66,
      "outputs": [
        {
          "output_type": "execute_result",
          "data": {
            "text/plain": [
              "(91634, 54)"
            ]
          },
          "metadata": {
            "tags": []
          },
          "execution_count": 66
        }
      ]
    },
    {
      "cell_type": "code",
      "metadata": {
        "id": "pWodB3F1MA2l"
      },
      "source": [
        "df_final_test.head()"
      ],
      "execution_count": null,
      "outputs": []
    },
    {
      "cell_type": "code",
      "metadata": {
        "colab": {
          "base_uri": "https://localhost:8080/"
        },
        "id": "Rz7573NcMAyW",
        "outputId": "3851d37a-3301-43cc-c7a0-3f6a4d5eac05"
      },
      "source": [
        "from sklearn.metrics import f1_score\n",
        "from xgboost import XGBClassifier\n",
        "from sklearn.model_selection import RandomizedSearchCV\n",
        "# print('mean test scores',rf_random.cv_results_['mean_test_score'])\n",
        "# print('mean train scores',rf_random.cv_results_['mean_train_score'])\n",
        "\n",
        "x_cfl=XGBClassifier()\n",
        "prams={\n",
        "    'learning_rate':[0.01,0.03,0.05,0.1,0.15,0.2],\n",
        "     'n_estimators':[100,200,500,1000,2000],\n",
        "     'max_depth':[3,5,10],\n",
        "    'colsample_bytree':[0.1,0.3,0.5,1],\n",
        "    'subsample':[0.1,0.3,0.5,1]\n",
        "}\n",
        "random_cfl=RandomizedSearchCV(x_cfl,param_distributions=prams,verbose=10,n_jobs=-1,)\n",
        "random_cfl.fit(df_final_train,y_train)"
      ],
      "execution_count": 67,
      "outputs": [
        {
          "output_type": "stream",
          "text": [
            "Fitting 5 folds for each of 10 candidates, totalling 50 fits\n"
          ],
          "name": "stdout"
        },
        {
          "output_type": "stream",
          "text": [
            "[Parallel(n_jobs=-1)]: Using backend LokyBackend with 2 concurrent workers.\n",
            "[Parallel(n_jobs=-1)]: Done   1 tasks      | elapsed:   16.7s\n",
            "[Parallel(n_jobs=-1)]: Done   4 tasks      | elapsed:   32.0s\n",
            "[Parallel(n_jobs=-1)]: Done   9 tasks      | elapsed: 19.7min\n",
            "[Parallel(n_jobs=-1)]: Done  14 tasks      | elapsed: 26.8min\n",
            "[Parallel(n_jobs=-1)]: Done  21 tasks      | elapsed: 32.1min\n",
            "[Parallel(n_jobs=-1)]: Done  28 tasks      | elapsed: 34.1min\n",
            "[Parallel(n_jobs=-1)]: Done  37 tasks      | elapsed: 57.9min\n",
            "[Parallel(n_jobs=-1)]: Done  46 tasks      | elapsed: 88.4min\n",
            "[Parallel(n_jobs=-1)]: Done  50 out of  50 | elapsed: 89.3min finished\n"
          ],
          "name": "stderr"
        },
        {
          "output_type": "execute_result",
          "data": {
            "text/plain": [
              "RandomizedSearchCV(cv=None, error_score=nan,\n",
              "                   estimator=XGBClassifier(base_score=0.5, booster='gbtree',\n",
              "                                           colsample_bylevel=1,\n",
              "                                           colsample_bynode=1,\n",
              "                                           colsample_bytree=1, gamma=0,\n",
              "                                           learning_rate=0.1, max_delta_step=0,\n",
              "                                           max_depth=3, min_child_weight=1,\n",
              "                                           missing=None, n_estimators=100,\n",
              "                                           n_jobs=1, nthread=None,\n",
              "                                           objective='binary:logistic',\n",
              "                                           random_state=0, reg_alpha=0,\n",
              "                                           reg_lambda=1...\n",
              "                                           seed=None, silent=None, subsample=1,\n",
              "                                           verbosity=1),\n",
              "                   iid='deprecated', n_iter=10, n_jobs=-1,\n",
              "                   param_distributions={'colsample_bytree': [0.1, 0.3, 0.5, 1],\n",
              "                                        'learning_rate': [0.01, 0.03, 0.05, 0.1,\n",
              "                                                          0.15, 0.2],\n",
              "                                        'max_depth': [3, 5, 10],\n",
              "                                        'n_estimators': [100, 200, 500, 1000,\n",
              "                                                         2000],\n",
              "                                        'subsample': [0.1, 0.3, 0.5, 1]},\n",
              "                   pre_dispatch='2*n_jobs', random_state=None, refit=True,\n",
              "                   return_train_score=False, scoring=None, verbose=10)"
            ]
          },
          "metadata": {
            "tags": []
          },
          "execution_count": 67
        }
      ]
    },
    {
      "cell_type": "code",
      "metadata": {
        "colab": {
          "base_uri": "https://localhost:8080/"
        },
        "id": "IHs_xJrCMAso",
        "outputId": "951b5472-e359-4601-ec2e-c6c70de031bd"
      },
      "source": [
        "print('mean test scores',random_cfl.cv_results_['mean_test_score'])"
      ],
      "execution_count": 72,
      "outputs": [
        {
          "output_type": "stream",
          "text": [
            "mean test scores [0.97522046 0.98198035 0.97456048 0.9681306  0.97584046 0.96293072\n",
            " 0.97993038 0.9345913  0.98270033 0.97394051]\n"
          ],
          "name": "stdout"
        }
      ]
    },
    {
      "cell_type": "code",
      "metadata": {
        "colab": {
          "base_uri": "https://localhost:8080/"
        },
        "id": "HIcCgv3fMApo",
        "outputId": "f2fc66de-8067-4048-8f2c-9387f4a8da10"
      },
      "source": [
        "random_cfl.best_estimator_"
      ],
      "execution_count": 73,
      "outputs": [
        {
          "output_type": "execute_result",
          "data": {
            "text/plain": [
              "XGBClassifier(base_score=0.5, booster='gbtree', colsample_bylevel=1,\n",
              "              colsample_bynode=1, colsample_bytree=1, gamma=0,\n",
              "              learning_rate=0.1, max_delta_step=0, max_depth=10,\n",
              "              min_child_weight=1, missing=None, n_estimators=500, n_jobs=1,\n",
              "              nthread=None, objective='binary:logistic', random_state=0,\n",
              "              reg_alpha=0, reg_lambda=1, scale_pos_weight=1, seed=None,\n",
              "              silent=None, subsample=1, verbosity=1)"
            ]
          },
          "metadata": {
            "tags": []
          },
          "execution_count": 73
        }
      ]
    },
    {
      "cell_type": "code",
      "metadata": {
        "id": "u4ZOUvrKMAm5"
      },
      "source": [
        "clf = XGBClassifier(base_score=0.5, booster='gbtree', colsample_bylevel=1,\n",
        "              colsample_bynode=1, colsample_bytree=1, gamma=0,\n",
        "              learning_rate=0.1, max_delta_step=0, max_depth=10,\n",
        "              min_child_weight=1, missing=None, n_estimators=500, n_jobs=1,\n",
        "              nthread=None, objective='binary:logistic', random_state=0,\n",
        "              reg_alpha=0, reg_lambda=1, scale_pos_weight=1, seed=None,\n",
        "              silent=None, subsample=1, verbosity=1)"
      ],
      "execution_count": 74,
      "outputs": []
    },
    {
      "cell_type": "code",
      "metadata": {
        "id": "V66SD7ibMAjk"
      },
      "source": [
        "clf.fit(df_final_train,y_train)\n",
        "y_train_pred = clf.predict(df_final_train)\n",
        "y_test_pred = clf.predict(df_final_test)"
      ],
      "execution_count": 75,
      "outputs": []
    },
    {
      "cell_type": "code",
      "metadata": {
        "colab": {
          "base_uri": "https://localhost:8080/"
        },
        "id": "nbF1wHh2MAZL",
        "outputId": "06c3daf4-8214-45b3-ff53-b8477dd972e9"
      },
      "source": [
        "from sklearn.metrics import f1_score\n",
        "print('Train f1 score',f1_score(y_train,y_train_pred))\n",
        "print('Test f1 score',f1_score(y_test,y_test_pred))"
      ],
      "execution_count": 76,
      "outputs": [
        {
          "output_type": "stream",
          "text": [
            "Train f1 score 1.0\n",
            "Test f1 score 0.9256897504569996\n"
          ],
          "name": "stdout"
        }
      ]
    },
    {
      "cell_type": "code",
      "metadata": {
        "id": "JfhrWNLZ6ox6"
      },
      "source": [
        "from sklearn.metrics import confusion_matrix\n",
        "def plot_confusion_matrix(test_y, predict_y):\n",
        "    C = confusion_matrix(test_y, predict_y)\n",
        "    \n",
        "    A =(((C.T)/(C.sum(axis=1))).T)\n",
        "    \n",
        "    B =(C/C.sum(axis=0))\n",
        "    plt.figure(figsize=(20,4))\n",
        "    \n",
        "    labels = [0,1]\n",
        "    # representing A in heatmap format\n",
        "    cmap=sns.light_palette(\"blue\")\n",
        "    plt.subplot(1, 3, 1)\n",
        "    sns.heatmap(C, annot=True, cmap=cmap, fmt=\".3f\", xticklabels=labels, yticklabels=labels)\n",
        "    plt.xlabel('Predicted Class')\n",
        "    plt.ylabel('Original Class')\n",
        "    plt.title(\"Confusion matrix\")\n",
        "    \n",
        "    plt.subplot(1, 3, 2)\n",
        "    sns.heatmap(B, annot=True, cmap=cmap, fmt=\".3f\", xticklabels=labels, yticklabels=labels)\n",
        "    plt.xlabel('Predicted Class')\n",
        "    plt.ylabel('Original Class')\n",
        "    plt.title(\"Precision matrix\")\n",
        "    \n",
        "    plt.subplot(1, 3, 3)\n",
        "    # representing B in heatmap format\n",
        "    sns.heatmap(A, annot=True, cmap=cmap, fmt=\".3f\", xticklabels=labels, yticklabels=labels)\n",
        "    plt.xlabel('Predicted Class')\n",
        "    plt.ylabel('Original Class')\n",
        "    plt.title(\"Recall matrix\")\n",
        "    \n",
        "    plt.show()"
      ],
      "execution_count": 77,
      "outputs": []
    },
    {
      "cell_type": "code",
      "metadata": {
        "colab": {
          "base_uri": "https://localhost:8080/",
          "height": 468
        },
        "id": "UM6R0fxO63uJ",
        "outputId": "22fa02f8-c3c6-4c12-fbd9-fe70f47851d4"
      },
      "source": [
        "print('Train confusion_matrix')\n",
        "plot_confusion_matrix(y_train,y_train_pred)\n",
        "print('Test confusion_matrix')\n",
        "plot_confusion_matrix(y_test,y_test_pred)"
      ],
      "execution_count": 78,
      "outputs": [
        {
          "output_type": "stream",
          "text": [
            "Train confusion_matrix\n"
          ],
          "name": "stdout"
        },
        {
          "output_type": "display_data",
          "data": {
            "image/png": "[encoded data removed]",
            "text/plain": [
              "<Figure size 1440x288 with 6 Axes>"
            ]
          },
          "metadata": {
            "tags": [],
            "needs_background": "light"
          }
        },
        {
          "output_type": "stream",
          "text": [
            "Test confusion_matrix\n"
          ],
          "name": "stdout"
        },
        {
          "output_type": "display_data",
          "data": {
            "image/png": "[encoded data removed]",
            "text/plain": [
              "<Figure size 1440x288 with 6 Axes>"
            ]
          },
          "metadata": {
            "tags": [],
            "needs_background": "light"
          }
        }
      ]
    },
    {
      "cell_type": "code",
      "metadata": {
        "colab": {
          "base_uri": "https://localhost:8080/",
          "height": 295
        },
        "id": "9lhxwpx263hr",
        "outputId": "fd710cb3-5460-4c9b-d79e-e0c649376672"
      },
      "source": [
        "from sklearn.metrics import roc_curve, auc\n",
        "fpr,tpr,ths = roc_curve(y_test,y_test_pred)\n",
        "auc_sc = auc(fpr, tpr)\n",
        "plt.plot(fpr, tpr, color='navy',label='ROC curve (area = %0.2f)' % auc_sc)\n",
        "plt.xlabel('False Positive Rate')\n",
        "plt.ylabel('True Positive Rate')\n",
        "plt.title('Receiver operating characteristic with test data')\n",
        "plt.legend()\n",
        "plt.show()"
      ],
      "execution_count": 79,
      "outputs": [
        {
          "output_type": "display_data",
          "data": {
            "image/png": "[encoded data removed]",
            "text/plain": [
              "<Figure size 432x288 with 1 Axes>"
            ]
          },
          "metadata": {
            "tags": [],
            "needs_background": "light"
          }
        }
      ]
    },
    {
      "cell_type": "code",
      "metadata": {
        "colab": {
          "base_uri": "https://localhost:8080/",
          "height": 730
        },
        "id": "-hraqf-p63ed",
        "outputId": "0bfa8a0d-d648-4491-f6a8-e84a2d8ab55c"
      },
      "source": [
        "features = df_final_train.columns\n",
        "importances = clf.feature_importances_\n",
        "indices = (np.argsort(importances))[-25:]\n",
        "plt.figure(figsize=(10,12))\n",
        "plt.title('Feature Importances')\n",
        "plt.barh(range(len(indices)), importances[indices], color='r', align='center')\n",
        "plt.yticks(range(len(indices)), [features[i] for i in indices])\n",
        "plt.xlabel('Relative Importance')\n",
        "plt.show()"
      ],
      "execution_count": 80,
      "outputs": [
        {
          "output_type": "display_data",
          "data": {
            "image/png": "[encoded data removed]",
            "text/plain": [
              "<Figure size 720x864 with 1 Axes>"
            ]
          },
          "metadata": {
            "tags": [],
            "needs_background": "light"
          }
        }
      ]
    },
    {
      "cell_type": "code",
      "metadata": {
        "id": "7mmaaRSG63b-"
      },
      "source": [
        ""
      ],
      "execution_count": null,
      "outputs": []
    },
    {
      "cell_type": "code",
      "metadata": {
        "id": "ZZVD7PmC63Y8"
      },
      "source": [
        ""
      ],
      "execution_count": null,
      "outputs": []
    },
    {
      "cell_type": "code",
      "metadata": {
        "id": "Z0N2Mii363VN"
      },
      "source": [
        ""
      ],
      "execution_count": null,
      "outputs": []
    },
    {
      "cell_type": "code",
      "metadata": {
        "id": "I84hsrS263Rl"
      },
      "source": [
        ""
      ],
      "execution_count": null,
      "outputs": []
    }
  ]
}